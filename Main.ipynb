{
 "cells": [
  {
   "cell_type": "code",
   "execution_count": 99,
   "metadata": {},
   "outputs": [],
   "source": [
    "import pandas as pd\n",
    "from bs4 import BeautifulSoup\n",
    "from selenium import webdriver\n",
    "from selenium.webdriver.chrome.options import Options"
   ]
  },
  {
   "cell_type": "code",
   "execution_count": 100,
   "metadata": {},
   "outputs": [],
   "source": [
    "# Link Digimap\n",
    "main_link = \"https://www.tokopedia.com/search?st=&q=skincare&srp_component_id=02.01.00.00&srp_page_id=&srp_page_title=&navsource=\"\n",
    "path = \"D:/UTY/TA Yola/Dataset_Yola/Google Chrome/chromedriver-win64/chromedriver.exe\"\n"
   ]
  },
  {
   "cell_type": "code",
   "execution_count": 101,
   "metadata": {},
   "outputs": [],
   "source": [
    "from selenium.webdriver.chrome.service import Service"
   ]
  },
  {
   "cell_type": "code",
   "execution_count": 102,
   "metadata": {},
   "outputs": [],
   "source": [
    "# Customize chrome display\n",
    "chrome_options = Options()\n",
    "chrome_options.add_argument(\"--no-sandbox\")\n",
    "#chrome_options.add_argument(\"--headless\") # run tanpa membuka chrome\n",
    "chrome_options.add_argument(\"disable-notifications\")\n",
    "chrome_options.add_argument(\"--disable-infobars\")\n",
    "chrome_options.add_experimental_option(\"excludeSwitches\", ['enable-automation'])\n",
    "\n",
    "service = Service(path)\n",
    "options = webdriver.ChromeOptions()\n",
    "\n",
    "\n",
    "driver = webdriver.Chrome(service=service, options=options)\n",
    "driver.get(main_link)"
   ]
  },
  {
   "cell_type": "code",
   "execution_count": 103,
   "metadata": {},
   "outputs": [],
   "source": [
    "html = driver.execute_script(\"return document.getElementsByTagName('html')[0].innerHTML\")\n",
    "soup = BeautifulSoup(html,\"html.parser\")"
   ]
  },
  {
   "cell_type": "code",
   "execution_count": 104,
   "metadata": {},
   "outputs": [
    {
     "data": {
      "text/plain": [
       "'【BPOM】BIOAQUA 24K Gold Facial Kit paket skincare - 24K Facial Set'"
      ]
     },
     "execution_count": 104,
     "metadata": {},
     "output_type": "execute_result"
    }
   ],
   "source": [
    "\"\"\" Product Name \"\"\"\n",
    "product_name = soup.find_all('div', class_='prd_link-product-name css-3um8ox')\n",
    "product_name[1].get_text()"
   ]
  },
  {
   "cell_type": "code",
   "execution_count": 105,
   "metadata": {},
   "outputs": [
    {
     "data": {
      "text/plain": [
       "'100+ terjual'"
      ]
     },
     "execution_count": 105,
     "metadata": {},
     "output_type": "execute_result"
    }
   ],
   "source": [
    "\"\"\" Total sold products/month \"\"\"\n",
    "product_sold = soup.find_all('span', class_='prd_label-integrity css-1sgek4h')\n",
    "product_sold[1].get_text()"
   ]
  },
  {
   "cell_type": "code",
   "execution_count": 106,
   "metadata": {},
   "outputs": [
    {
     "data": {
      "text/plain": [
       "'Rp152.799'"
      ]
     },
     "execution_count": 106,
     "metadata": {},
     "output_type": "execute_result"
    }
   ],
   "source": [
    "\"\"\" Product Price \"\"\"\n",
    "product_price = soup.find_all('div', class_='prd_link-product-price css-h66vau')\n",
    "product_price[1].get_text()"
   ]
  },
  {
   "cell_type": "code",
   "execution_count": 107,
   "metadata": {},
   "outputs": [
    {
     "data": {
      "text/plain": [
       "'4.9'"
      ]
     },
     "execution_count": 107,
     "metadata": {},
     "output_type": "execute_result"
    }
   ],
   "source": [
    "\"\"\" Rating \"\"\"\n",
    "product_rating = soup.find_all('span', class_='prd_rating-average-text css-t70v7i')\n",
    "product_rating[1].get_text()"
   ]
  },
  {
   "cell_type": "code",
   "execution_count": 108,
   "metadata": {},
   "outputs": [
    {
     "data": {
      "text/plain": [
       "' Peringkat '"
      ]
     },
     "execution_count": 108,
     "metadata": {},
     "output_type": "execute_result"
    }
   ],
   "source": [
    "\"\"\" Peringkat \"\"\"\n",
    "#Gabisa, harus scraping per produk"
   ]
  },
  {
   "cell_type": "code",
   "execution_count": 109,
   "metadata": {},
   "outputs": [
    {
     "data": {
      "text/plain": [
       "'Tangerang'"
      ]
     },
     "execution_count": 109,
     "metadata": {},
     "output_type": "execute_result"
    }
   ],
   "source": [
    "\"\"\" Lokasi Merchan \"\"\"\n",
    "product_loc = soup.find_all('span', class_='prd_link-shop-loc css-1kdc32b flip')\n",
    "product_loc[1].get_text()"
   ]
  },
  {
   "cell_type": "code",
   "execution_count": 110,
   "metadata": {},
   "outputs": [
    {
     "data": {
      "text/plain": [
       "'SOMETHINC Official'"
      ]
     },
     "execution_count": 110,
     "metadata": {},
     "output_type": "execute_result"
    }
   ],
   "source": [
    "\"\"\" Nama Toko \"\"\"\n",
    "product_tok = soup.find_all('span', class_='prd_link-shop-name css-1kdc32b flip')\n",
    "product_tok[1].get_text()"
   ]
  },
  {
   "cell_type": "code",
   "execution_count": 111,
   "metadata": {},
   "outputs": [
    {
     "data": {
      "text/plain": [
       "' Deskripsi '"
      ]
     },
     "execution_count": 111,
     "metadata": {},
     "output_type": "execute_result"
    }
   ],
   "source": [
    "\"\"\" Deskripsi \"\"\"\n",
    "#Gabisa, harus scraping per produk"
   ]
  },
  {
   "cell_type": "code",
   "execution_count": 112,
   "metadata": {},
   "outputs": [
    {
     "data": {
      "text/plain": [
       "' Jenis Skin Care '"
      ]
     },
     "execution_count": 112,
     "metadata": {},
     "output_type": "execute_result"
    }
   ],
   "source": [
    "\"\"\" Jenis Skin Care \"\"\"\n",
    "#Gabisa, harus scraping per produk"
   ]
  },
  {
   "cell_type": "code",
   "execution_count": 113,
   "metadata": {},
   "outputs": [
    {
     "data": {
      "text/plain": [
       "'Rp399.999'"
      ]
     },
     "execution_count": 113,
     "metadata": {},
     "output_type": "execute_result"
    }
   ],
   "source": [
    "\"\"\" Promo Harga Awal \"\"\"\n",
    "product_harga_awal = soup.find_all('div', class_='prd_label-product-slash-price css-xfl72w')\n",
    "product_harga_awal[1].get_text()"
   ]
  },
  {
   "cell_type": "code",
   "execution_count": 114,
   "metadata": {},
   "outputs": [
    {
     "data": {
      "text/plain": [
       "'62%'"
      ]
     },
     "execution_count": 114,
     "metadata": {},
     "output_type": "execute_result"
    }
   ],
   "source": [
    "\"\"\" Promo 1 \"\"\"\n",
    "product_pro1 = soup.find_all('div', class_='prd_badge-product-discount css-1xelcdh')\n",
    "product_pro1[1].get_text()"
   ]
  },
  {
   "cell_type": "code",
   "execution_count": 115,
   "metadata": {},
   "outputs": [
    {
     "data": {
      "text/plain": [
       "'Cashback 8,4rb'"
      ]
     },
     "execution_count": 115,
     "metadata": {},
     "output_type": "execute_result"
    }
   ],
   "source": [
    "\"\"\" Promo 2 \"\"\"\n",
    "product_pro3 = soup.find_all('div', class_='prd_label-product-price css-tolj34')\n",
    "product_pro3[1].get_text()"
   ]
  },
  {
   "cell_type": "code",
   "execution_count": 116,
   "metadata": {},
   "outputs": [
    {
     "name": "stdout",
     "output_type": "stream",
     "text": [
      "URL Gambar: https://images.tokopedia.net/img/cache/200-square/VqbcmM/2022/11/11/9694b8b4-6604-4330-8d0c-943ac0231aca.jpg\n"
     ]
    }
   ],
   "source": [
    "\"\"\" Foto \"\"\"\n",
    "product_foto = soup.find_all('img', class_='css-1q90pod')\n",
    "product_foto[1].get_text()\n",
    "# Melakukan iterasi pada hasil find_all untuk mendapatkan URL gambar dari elemen kedua (indeks 1)\n",
    "url_gambar = product_foto[1]['src']\n",
    "\n",
    "# Menampilkan URL gambar\n",
    "print(\"URL Gambar:\", url_gambar)\n"
   ]
  },
  {
   "cell_type": "code",
   "execution_count": 117,
   "metadata": {},
   "outputs": [],
   "source": [
    "#LOOPING\n",
    "product_name, product_sold, product_price, product_rating, product_loc, product_tok, product_harga_awal, product_pro1, product_pro2, url_gambar = [], [], [], [], [], [], [], [], [], []\n",
    "\n",
    "\n",
    "#Product Name\n",
    "for i in soup.find_all('div', class_='prd_link-product-name css-3um8ox'):\n",
    "    product_name.append(i.text)\n",
    "#Total sold products/month\n",
    "for i in soup.find_all('span', class_='prd_label-integrity css-1sgek4h'):\n",
    "    product_sold.append(i.text)\n",
    "#Product Price\n",
    "for i in soup.find_all('div', class_='prd_link-product-price css-h66vau'):\n",
    "    product_price.append(i.text)\n",
    "#Rating\n",
    "for i in soup.find_all('span', class_='prd_rating-average-text css-t70v7i'):\n",
    "    product_rating.append(i.text)\n",
    "#Lokasi Merchan\n",
    "for i in soup.find_all('span', class_='prd_link-shop-loc css-1kdc32b flip'):\n",
    "    product_loc.append(i.text)\n",
    "#Nama Toko\n",
    "for i in soup.find_all('span', class_='prd_link-shop-name css-1kdc32b flip'):\n",
    "    product_tok.append(i.text)\n",
    "#Promo Harga Awal\n",
    "for i in soup.find_all('div', class_='prd_label-product-slash-price css-xfl72w'):\n",
    "    product_harga_awal.append(i.text)\n",
    "#Promo 1\n",
    "for i in soup.find_all('div', class_='prd_badge-product-discount css-1xelcdh'):\n",
    "    product_pro1.append(i.text)\n",
    "#Promo 2\n",
    "for i in soup.find_all('div', class_='prd_label-product-price css-tolj34'):\n",
    "    product_pro2.append(i.text)\n",
    "#Foto\n",
    "for i in soup.find_all('img',class_='css-1q90pod'):\n",
    "    url_gambar.append(i.text)"
   ]
  },
  {
   "cell_type": "code",
   "execution_count": 118,
   "metadata": {},
   "outputs": [
    {
     "name": "stdout",
     "output_type": "stream",
     "text": [
      "Jumlah Produk: 38\n",
      "Jumlah Terjual: 38\n",
      "Jumlah Harga: 38\n",
      "Jumlah Rating: 38\n",
      "Jumlah Lokasi: 35\n",
      "Jumlah Toko: 35\n",
      "Jumlah Harga Awal: 8\n",
      "Jumlah Promo 1: 8\n",
      "Jumlah Promo 2: 21\n",
      "Jumlah Url Gambar: 38\n"
     ]
    }
   ],
   "source": [
    "\"\"\" Jumlah Data Pada Halaman 1 \"\"\"\n",
    "print(f\"Jumlah Produk: {len(product_name)}\")\n",
    "print(f\"Jumlah Terjual: {len(product_sold)}\")\n",
    "print(f\"Jumlah Harga: {len(product_price)}\")\n",
    "print(f\"Jumlah Rating: {len(product_rating)}\")\n",
    "print(f\"Jumlah Lokasi: {len(product_loc)}\")\n",
    "print(f\"Jumlah Toko: {len(product_tok)}\")\n",
    "print(f\"Jumlah Harga Awal: {len(product_harga_awal)}\")\n",
    "print(f\"Jumlah Promo 1: {len(product_pro1)}\")\n",
    "print(f\"Jumlah Promo 2: {len(product_pro2)}\")\n",
    "print(f\"Jumlah Url Gambar: {len(url_gambar)}\")"
   ]
  },
  {
   "cell_type": "code",
   "execution_count": 119,
   "metadata": {},
   "outputs": [],
   "source": [
    "#Many pages\n",
    "product_name, product_sold, product_price, product_rating, product_loc, product_tok, product_harga_awal, product_pro1, product_pro2, url_gambar = [], [], [], [], [], [], [], [], [], []\n",
    "\n",
    "# Pengulangan untuk beberapa halaman\n",
    "for page in range(0, 100):\n",
    "    main_link = \"https://www.tokopedia.com/search?page={}&q=skincare&st=product\".format(page)\n",
    "    driver.get(main_link)\n",
    "    soup = BeautifulSoup(driver.page_source, 'html.parser')\n",
    "\n",
    "    #Product Name\n",
    "    for i in soup.find_all('div', class_='prd_link-product-name css-3um8ox'):\n",
    "        product_name.append(i.text)\n",
    "    #Total sold products/month\n",
    "    for i in soup.find_all('span', class_='prd_label-integrity css-1sgek4h'):\n",
    "        product_sold.append(i.text)\n",
    "    #Product Price\n",
    "    for i in soup.find_all('div', class_='prd_link-product-price css-h66vau'):\n",
    "        product_price.append(i.text)\n",
    "    #Rating\n",
    "    for i in soup.find_all('span', class_='prd_rating-average-text css-t70v7i'):\n",
    "        product_rating.append(i.text)\n",
    "    #Lokasi Merchan\n",
    "    for i in soup.find_all('span', class_='prd_link-shop-loc css-1kdc32b flip'):\n",
    "        product_loc.append(i.text)\n",
    "    #Nama Toko\n",
    "    for i in soup.find_all('span', class_='prd_link-shop-name css-1kdc32b flip'):\n",
    "        product_tok.append(i.text)\n",
    "    #Promo Harga Awal\n",
    "    for i in soup.find_all('div', class_='prd_label-product-slash-price css-xfl72w'):\n",
    "        product_harga_awal.append(i.text)\n",
    "    #Promo 1\n",
    "    for i in soup.find_all('div', class_='prd_badge-product-discount css-1xelcdh'):\n",
    "        product_pro1.append(i.text)\n",
    "    #Promo 2\n",
    "    for i in soup.find_all('div', class_='prd_label-product-price css-tolj34'):\n",
    "        product_pro2.append(i.text)\n",
    "    #Foto\n",
    "    for i in soup.find_all('img',class_='css-1q90pod'):\n",
    "        url_gambar.append(i.text)"
   ]
  },
  {
   "cell_type": "code",
   "execution_count": 120,
   "metadata": {},
   "outputs": [
    {
     "name": "stdout",
     "output_type": "stream",
     "text": [
      "Jumlah Produk: 3623\n",
      "Jumlah Terjual: 3513\n",
      "Jumlah Harga: 3623\n",
      "Jumlah Rating: 3439\n",
      "Jumlah Lokasi: 3499\n",
      "Jumlah Toko: 3499\n",
      "Jumlah Harga Awal: 455\n",
      "Jumlah Promo 1: 455\n",
      "Jumlah Promo 2: 2211\n",
      "Jumlah Url Gambar: 3623\n"
     ]
    }
   ],
   "source": [
    "\"\"\" Jumlah Data Pada Halaman 1 \"\"\"\n",
    "print(f\"Jumlah Produk: {len(product_name)}\")\n",
    "print(f\"Jumlah Terjual: {len(product_sold)}\")\n",
    "print(f\"Jumlah Harga: {len(product_price)}\")\n",
    "print(f\"Jumlah Rating: {len(product_rating)}\")\n",
    "print(f\"Jumlah Lokasi: {len(product_loc)}\")\n",
    "print(f\"Jumlah Toko: {len(product_tok)}\")\n",
    "print(f\"Jumlah Harga Awal: {len(product_harga_awal)}\")\n",
    "print(f\"Jumlah Promo 1: {len(product_pro1)}\")\n",
    "print(f\"Jumlah Promo 2: {len(product_pro2)}\")\n",
    "print(f\"Jumlah Url Gambar: {len(url_gambar)}\")"
   ]
  },
  {
   "cell_type": "code",
   "execution_count": 121,
   "metadata": {},
   "outputs": [],
   "source": [
    "# SAVE DATA\n",
    "listCols = ['product_name', 'product_sold', 'product_price', 'product_rating', 'product_loc', 'product_harga_awal', 'product_pro1', 'product_pro2', 'url_gambar']\n",
    "dict_data = {\n",
    "    'product_name': product_name,\n",
    "    'product_sold': product_sold,\n",
    "    'product_price': product_price,\n",
    "    'product_rating': product_rating,\n",
    "    'product_loc': product_loc,\n",
    "    'product_tok': product_tok,\n",
    "    'product_harga_awal': product_harga_awal,\n",
    "    'product_pro1': product_pro1,\n",
    "    'product_pro2': product_pro2,\n",
    "    'url_gambar': url_gambar\n",
    "}"
   ]
  },
  {
   "cell_type": "code",
   "execution_count": 122,
   "metadata": {},
   "outputs": [],
   "source": [
    "\"\"\" Save Dengan Format Json \"\"\"\n",
    "import json\n",
    "with open('dataset_skincare.json','w') as fp:\n",
    "    json.dump(dict_data, fp)"
   ]
  },
  {
   "cell_type": "code",
   "execution_count": 123,
   "metadata": {},
   "outputs": [
    {
     "name": "stdout",
     "output_type": "stream",
     "text": [
      "Panjang product_name: 3623\n",
      "Panjang product_sold: 3513\n",
      "Panjang product_price: 3623\n",
      "Panjang product_rating: 3439\n",
      "Panjang product_loc: 3499\n",
      "Panjang product_tok: 3499\n",
      "Panjang product_harga_awal: 455\n",
      "Panjang product_pro1: 455\n",
      "Panjang product_pro2: 2211\n",
      "Panjang url_gambar: 3623\n"
     ]
    }
   ],
   "source": [
    "for key, value in dict_data.items():\n",
    "    print(f'Panjang {key}: {len(value)}')"
   ]
  },
  {
   "cell_type": "code",
   "execution_count": 124,
   "metadata": {},
   "outputs": [
    {
     "name": "stdout",
     "output_type": "stream",
     "text": [
      "Panjang product_name: 3623\n",
      "Panjang product_sold: 3623\n",
      "Panjang product_price: 3623\n",
      "Panjang product_rating: 3623\n",
      "Panjang product_loc: 3623\n",
      "Panjang product_tok: 3623\n",
      "Panjang product_harga_awal: 3623\n",
      "Panjang product_pro1: 3623\n",
      "Panjang product_pro2: 3623\n",
      "Panjang url_gambar: 3623\n"
     ]
    }
   ],
   "source": [
    "# Menentukan panjang maksimum\n",
    "max_length = max(len(product_name), len(product_sold), len(product_price), len(product_rating),\n",
    "                 len(product_loc), len(product_harga_awal), len(product_pro1), len(product_pro2), len(url_gambar))\n",
    "\n",
    "# Mengubah panjang atribut lainnya sesuai dengan panjang maksimum\n",
    "product_name += [''] * (max_length - len(product_name))\n",
    "product_sold += [''] * (max_length - len(product_sold))\n",
    "product_price += [''] * (max_length - len(product_price))\n",
    "product_rating += [''] * (max_length - len(product_rating))\n",
    "product_loc += [''] * (max_length - len(product_loc))\n",
    "product_tok += [''] * (max_length - len(product_tok))\n",
    "product_harga_awal += [''] * (max_length - len(product_harga_awal))\n",
    "product_pro1 += [''] * (max_length - len(product_pro1))\n",
    "product_pro2 += [''] * (max_length - len(product_pro2))\n",
    "url_gambar += [''] * (max_length - len(url_gambar))\n",
    "\n",
    "# Membuat dictionary baru dengan panjang yang setara\n",
    "balanced_dict_data = {\n",
    "    'product_name': product_name,\n",
    "    'product_sold': product_sold,\n",
    "    'product_price': product_price,\n",
    "    'product_rating': product_rating,\n",
    "    'product_loc': product_loc,\n",
    "    'product_tok': product_tok,\n",
    "    'product_harga_awal': product_harga_awal,\n",
    "    'product_pro1': product_pro1,\n",
    "    'product_pro2': product_pro2,\n",
    "    'url_gambar': url_gambar\n",
    "}\n",
    "\n",
    "# Menampilkan panjang baru setelah diimbangi\n",
    "for key, value in balanced_dict_data.items():\n",
    "    print(f'Panjang {key}: {len(value)}')\n"
   ]
  },
  {
   "cell_type": "code",
   "execution_count": 125,
   "metadata": {},
   "outputs": [
    {
     "data": {
      "text/html": [
       "<div>\n",
       "<style scoped>\n",
       "    .dataframe tbody tr th:only-of-type {\n",
       "        vertical-align: middle;\n",
       "    }\n",
       "\n",
       "    .dataframe tbody tr th {\n",
       "        vertical-align: top;\n",
       "    }\n",
       "\n",
       "    .dataframe thead th {\n",
       "        text-align: right;\n",
       "    }\n",
       "</style>\n",
       "<table border=\"1\" class=\"dataframe\">\n",
       "  <thead>\n",
       "    <tr style=\"text-align: right;\">\n",
       "      <th></th>\n",
       "      <th>product_name</th>\n",
       "      <th>product_sold</th>\n",
       "      <th>product_price</th>\n",
       "      <th>product_rating</th>\n",
       "      <th>product_loc</th>\n",
       "      <th>product_tok</th>\n",
       "      <th>product_harga_awal</th>\n",
       "      <th>product_pro1</th>\n",
       "      <th>product_pro2</th>\n",
       "      <th>url_gambar</th>\n",
       "    </tr>\n",
       "  </thead>\n",
       "  <tbody>\n",
       "    <tr>\n",
       "      <th>0</th>\n",
       "      <td>BIOAQUA Skincare Paket Facial Whitening / Anti...</td>\n",
       "      <td>500+ terjual</td>\n",
       "      <td>Rp159.999</td>\n",
       "      <td>4.9</td>\n",
       "      <td>Tangerang</td>\n",
       "      <td>SOMETHINC Official</td>\n",
       "      <td>Rp599.999</td>\n",
       "      <td>73%</td>\n",
       "      <td>Cashback 4,9rb</td>\n",
       "      <td></td>\n",
       "    </tr>\n",
       "    <tr>\n",
       "      <th>1</th>\n",
       "      <td>BIOAQUA 4pcs Skincare Paket Niacinamide Glowin...</td>\n",
       "      <td>250+ terjual</td>\n",
       "      <td>Rp109.999</td>\n",
       "      <td>4.9</td>\n",
       "      <td>Tangerang</td>\n",
       "      <td>SOMETHINC Official</td>\n",
       "      <td>Rp479.999</td>\n",
       "      <td>77%</td>\n",
       "      <td>Cashback 8,4rb</td>\n",
       "      <td></td>\n",
       "    </tr>\n",
       "    <tr>\n",
       "      <th>2</th>\n",
       "      <td>BIOAQUA 7X Ceramide Skin Barrier Repair Moistu...</td>\n",
       "      <td>1 rb+ terjual</td>\n",
       "      <td>Rp89.999</td>\n",
       "      <td>4.9</td>\n",
       "      <td>Surabaya</td>\n",
       "      <td>Henusa Official Shop</td>\n",
       "      <td>Rp399.999</td>\n",
       "      <td>78%</td>\n",
       "      <td>Cashback 18rb</td>\n",
       "      <td></td>\n",
       "    </tr>\n",
       "    <tr>\n",
       "      <th>3</th>\n",
       "      <td>SOMETHINC BAKUCHIOL Skinpair Oil Serum</td>\n",
       "      <td>10rb+ terjual</td>\n",
       "      <td>Rp99.000</td>\n",
       "      <td>4.9</td>\n",
       "      <td>Bekasi</td>\n",
       "      <td>Srikandi Ayu</td>\n",
       "      <td>Rp109.000</td>\n",
       "      <td>9%</td>\n",
       "      <td>Cashback 19,6rb</td>\n",
       "      <td></td>\n",
       "    </tr>\n",
       "    <tr>\n",
       "      <th>4</th>\n",
       "      <td>SOMETHINC CERAMIC SKIN Saviour Moisturizer Gel...</td>\n",
       "      <td>10rb+ terjual</td>\n",
       "      <td>Rp169.000</td>\n",
       "      <td>5.0</td>\n",
       "      <td>Jakarta Barat</td>\n",
       "      <td>IndoStainless</td>\n",
       "      <td>Rp186.000</td>\n",
       "      <td>9%</td>\n",
       "      <td>Cashback 20rb</td>\n",
       "      <td></td>\n",
       "    </tr>\n",
       "  </tbody>\n",
       "</table>\n",
       "</div>"
      ],
      "text/plain": [
       "                                        product_name   product_sold  \\\n",
       "0  BIOAQUA Skincare Paket Facial Whitening / Anti...   500+ terjual   \n",
       "1  BIOAQUA 4pcs Skincare Paket Niacinamide Glowin...   250+ terjual   \n",
       "2  BIOAQUA 7X Ceramide Skin Barrier Repair Moistu...  1 rb+ terjual   \n",
       "3             SOMETHINC BAKUCHIOL Skinpair Oil Serum  10rb+ terjual   \n",
       "4  SOMETHINC CERAMIC SKIN Saviour Moisturizer Gel...  10rb+ terjual   \n",
       "\n",
       "  product_price product_rating    product_loc           product_tok  \\\n",
       "0     Rp159.999            4.9      Tangerang    SOMETHINC Official   \n",
       "1     Rp109.999            4.9      Tangerang    SOMETHINC Official   \n",
       "2      Rp89.999            4.9       Surabaya  Henusa Official Shop   \n",
       "3      Rp99.000            4.9         Bekasi          Srikandi Ayu   \n",
       "4     Rp169.000            5.0  Jakarta Barat         IndoStainless   \n",
       "\n",
       "  product_harga_awal product_pro1     product_pro2 url_gambar  \n",
       "0          Rp599.999          73%   Cashback 4,9rb             \n",
       "1          Rp479.999          77%   Cashback 8,4rb             \n",
       "2          Rp399.999          78%    Cashback 18rb             \n",
       "3          Rp109.000           9%  Cashback 19,6rb             \n",
       "4          Rp186.000           9%    Cashback 20rb             "
      ]
     },
     "execution_count": 125,
     "metadata": {},
     "output_type": "execute_result"
    }
   ],
   "source": [
    "\"\"\" Membuat Data Frame \"\"\"\n",
    "df = pd.DataFrame(data = dict_data)\n",
    "df.head()"
   ]
  },
  {
   "cell_type": "code",
   "execution_count": 127,
   "metadata": {},
   "outputs": [
    {
     "ename": "",
     "evalue": "",
     "output_type": "error",
     "traceback": [
      "\u001b[1;31mThe Kernel crashed while executing code in the the current cell or a previous cell. Please review the code in the cell(s) to identify a possible cause of the failure. Click <a href='https://aka.ms/vscodeJupyterKernelCrash'>here</a> for more info. View Jupyter <a href='command:jupyter.viewOutput'>log</a> for further details."
     ]
    }
   ],
   "source": [
    "\"\"\" Save Dengan Format CSV \"\"\"\n",
    "df.to_csv('dataset_skincare.csv',index=False)"
   ]
  }
 ],
 "metadata": {
  "kernelspec": {
   "display_name": ".venv",
   "language": "python",
   "name": "python3"
  },
  "language_info": {
   "codemirror_mode": {
    "name": "ipython",
    "version": 3
   },
   "file_extension": ".py",
   "mimetype": "text/x-python",
   "name": "python",
   "nbconvert_exporter": "python",
   "pygments_lexer": "ipython3",
   "version": "3.10.0"
  }
 },
 "nbformat": 4,
 "nbformat_minor": 2
}
